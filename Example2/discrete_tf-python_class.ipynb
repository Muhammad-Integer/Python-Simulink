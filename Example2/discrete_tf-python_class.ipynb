{
 "cells": [
  {
   "cell_type": "markdown",
   "metadata": {},
   "source": [
    "# discrete_tf - Pythonize\n",
    "\n",
    "Use Python's syntactic sugar to 'pythonize' the Simulink Model. This class wraps the Simulink Model with some Python concepts. In addition to wrapping all of the functions with Python, it builds in a data-logger and plotting.\n",
    "\n",
    "![](discrete_tf.png)"
   ]
  },
  {
   "cell_type": "markdown",
   "metadata": {},
   "source": [
    "# Python Setup"
   ]
  },
  {
   "cell_type": "code",
   "execution_count": 1,
   "metadata": {},
   "outputs": [],
   "source": [
    "from discretetf import DiscreteTF"
   ]
  },
  {
   "cell_type": "code",
   "execution_count": 2,
   "metadata": {},
   "outputs": [],
   "source": [
    "mdl = DiscreteTF()"
   ]
  },
  {
   "cell_type": "code",
   "execution_count": 3,
   "metadata": {},
   "outputs": [
    {
     "data": {
      "text/plain": [
       "discrete_tf<0.0, 0.0, 0.0>"
      ]
     },
     "execution_count": 3,
     "metadata": {},
     "output_type": "execute_result"
    }
   ],
   "source": [
    "mdl.initialize()\n",
    "mdl"
   ]
  },
  {
   "cell_type": "code",
   "execution_count": 4,
   "metadata": {},
   "outputs": [
    {
     "data": {
      "text/plain": [
       "discrete_tf<0.0, 0.0, 0.0>"
      ]
     },
     "execution_count": 4,
     "metadata": {},
     "output_type": "execute_result"
    }
   ],
   "source": [
    "mdl.step()\n",
    "mdl"
   ]
  },
  {
   "cell_type": "code",
   "execution_count": 5,
   "metadata": {},
   "outputs": [
    {
     "data": {
      "text/plain": [
       "discrete_tf<0.001, 0.0, 0.0>"
      ]
     },
     "execution_count": 5,
     "metadata": {},
     "output_type": "execute_result"
    }
   ],
   "source": [
    "mdl.step()\n",
    "mdl"
   ]
  },
  {
   "cell_type": "code",
   "execution_count": 6,
   "metadata": {},
   "outputs": [
    {
     "data": {
      "text/plain": [
       "discrete_tf<0.002, 0.0, 0.0>"
      ]
     },
     "execution_count": 6,
     "metadata": {},
     "output_type": "execute_result"
    }
   ],
   "source": [
    "mdl.step()\n",
    "mdl"
   ]
  },
  {
   "cell_type": "code",
   "execution_count": 7,
   "metadata": {},
   "outputs": [
    {
     "data": {
      "text/plain": [
       "[0.0, 0.0014996250624921886]"
      ]
     },
     "execution_count": 7,
     "metadata": {},
     "output_type": "execute_result"
    }
   ],
   "source": [
    "mdl.num"
   ]
  },
  {
   "cell_type": "code",
   "execution_count": 8,
   "metadata": {},
   "outputs": [
    {
     "data": {
      "text/plain": [
       "[1.0, -0.9995001249791693]"
      ]
     },
     "execution_count": 8,
     "metadata": {},
     "output_type": "execute_result"
    }
   ],
   "source": [
    "mdl.den"
   ]
  },
  {
   "cell_type": "markdown",
   "metadata": {},
   "source": [
    "# Validate against `control` toolbox."
   ]
  },
  {
   "cell_type": "code",
   "execution_count": 9,
   "metadata": {},
   "outputs": [],
   "source": [
    "import control\n",
    "import numpy as np"
   ]
  },
  {
   "cell_type": "code",
   "execution_count": 10,
   "metadata": {},
   "outputs": [
    {
     "data": {
      "text/latex": [
       "$$\\frac{0.0015}{z - 0.9995}\\quad dt = 0.001$$"
      ],
      "text/plain": [
       "TransferFunction(array([0.00149963]), array([ 1.        , -0.99950012]), 0.001)"
      ]
     },
     "execution_count": 10,
     "metadata": {},
     "output_type": "execute_result"
    }
   ],
   "source": [
    "# How fast the simulink model is running.\n",
    "Ts=1e-3\n",
    "# Static Gain\n",
    "K = 3\n",
    "# Time Constant.\n",
    "tau = 2\n",
    "sys = control.TransferFunction([K], [tau, 1])\n",
    "sysd = control.c2d(sys, Ts)\n",
    "sysd"
   ]
  },
  {
   "cell_type": "code",
   "execution_count": 11,
   "metadata": {},
   "outputs": [
    {
     "data": {
      "text/plain": [
       "[[array([0.00149963])]]"
      ]
     },
     "execution_count": 11,
     "metadata": {},
     "output_type": "execute_result"
    }
   ],
   "source": [
    "sysd.num"
   ]
  },
  {
   "cell_type": "code",
   "execution_count": 12,
   "metadata": {},
   "outputs": [
    {
     "data": {
      "text/plain": [
       "[0.0, 0.0014996250624921886]"
      ]
     },
     "execution_count": 12,
     "metadata": {},
     "output_type": "execute_result"
    }
   ],
   "source": [
    "mdl.num"
   ]
  },
  {
   "cell_type": "code",
   "execution_count": 13,
   "metadata": {},
   "outputs": [
    {
     "data": {
      "text/plain": [
       "array([[[False,  True]]])"
      ]
     },
     "execution_count": 13,
     "metadata": {},
     "output_type": "execute_result"
    }
   ],
   "source": [
    "np.isclose(sysd.num, mdl.num)"
   ]
  },
  {
   "cell_type": "code",
   "execution_count": 14,
   "metadata": {},
   "outputs": [
    {
     "data": {
      "text/plain": [
       "[[array([ 1.        , -0.99950012])]]"
      ]
     },
     "execution_count": 14,
     "metadata": {},
     "output_type": "execute_result"
    }
   ],
   "source": [
    "sysd.den"
   ]
  },
  {
   "cell_type": "code",
   "execution_count": 15,
   "metadata": {},
   "outputs": [
    {
     "data": {
      "text/plain": [
       "[1.0, -0.9995001249791693]"
      ]
     },
     "execution_count": 15,
     "metadata": {},
     "output_type": "execute_result"
    }
   ],
   "source": [
    "mdl.den"
   ]
  },
  {
   "cell_type": "code",
   "execution_count": 16,
   "metadata": {},
   "outputs": [
    {
     "data": {
      "text/plain": [
       "array([[[ True,  True]]])"
      ]
     },
     "execution_count": 16,
     "metadata": {},
     "output_type": "execute_result"
    }
   ],
   "source": [
    "np.isclose(sysd.den, mdl.den)"
   ]
  },
  {
   "cell_type": "markdown",
   "metadata": {},
   "source": [
    "# Pythonic Interactions"
   ]
  },
  {
   "cell_type": "code",
   "execution_count": 17,
   "metadata": {},
   "outputs": [
    {
     "data": {
      "text/plain": [
       "15.0"
      ]
     },
     "execution_count": 17,
     "metadata": {},
     "output_type": "execute_result"
    }
   ],
   "source": [
    "mdl.initialize()\n",
    "for step in range(int(15/Ts)+1):\n",
    "    mdl.step()\n",
    "mdl.time"
   ]
  },
  {
   "cell_type": "code",
   "execution_count": 18,
   "metadata": {},
   "outputs": [
    {
     "data": {
      "text/plain": [
       "15000"
      ]
     },
     "execution_count": 18,
     "metadata": {},
     "output_type": "execute_result"
    }
   ],
   "source": [
    "mdl.step_num"
   ]
  },
  {
   "cell_type": "markdown",
   "metadata": {},
   "source": [
    "## Using the Datalogger"
   ]
  },
  {
   "cell_type": "code",
   "execution_count": 21,
   "metadata": {},
   "outputs": [
    {
     "data": {
      "image/png": "[encoded data removed]",
      "text/plain": [
       "<Figure size 432x288 with 1 Axes>"
      ]
     },
     "metadata": {
      "needs_background": "light"
     },
     "output_type": "display_data"
    }
   ],
   "source": [
    "data = dict()\n",
    "mdl.init_log()\n",
    "for step in range(int(15/Ts)+1):\n",
    "    mdl.step_log()\n",
    "mdl.plot()"
   ]
  },
  {
   "cell_type": "markdown",
   "metadata": {},
   "source": [
    "# Step Response\n",
    "\n",
    "*Sample homework problem?*\n",
    "\n",
    "- Plot step response for a first order system with $\\tau=1s,2s,3s$ for K=1. Make the step at 2s.\n",
    "- The model is compiled with K=3, $\\tau=2s$\n",
    "- The simulink model is running at 0.001s."
   ]
  },
  {
   "cell_type": "code",
   "execution_count": 22,
   "metadata": {},
   "outputs": [
    {
     "data": {
      "image/png": "[encoded data removed]",
      "text/plain": [
       "<Figure size 432x288 with 1 Axes>"
      ]
     },
     "metadata": {
      "needs_background": "light"
     },
     "output_type": "display_data"
    },
    {
     "data": {
      "image/png": "[encoded data removed]",
      "text/plain": [
       "<Figure size 432x288 with 1 Axes>"
      ]
     },
     "metadata": {
      "needs_background": "light"
     },
     "output_type": "display_data"
    },
    {
     "data": {
      "image/png": "[encoded data removed]",
      "text/plain": [
       "<Figure size 432x288 with 1 Axes>"
      ]
     },
     "metadata": {
      "needs_background": "light"
     },
     "output_type": "display_data"
    }
   ],
   "source": [
    "dt=0.001\n",
    "K = 1\n",
    "dataframes = list()\n",
    "for tau in [1, 2, 3]:\n",
    "    sys = control.TransferFunction([K], [tau, 1])\n",
    "    sysd = control.c2d(sys, Ts)\n",
    "    mdl.num = sysd.num[0][0]\n",
    "    mdl.den = sysd.den[0][0]\n",
    "    mdl.init_log()\n",
    "    for step in range(int(15/Ts)):\n",
    "        mdl.input_signal = 3 if mdl.time>=2 else 0\n",
    "        mdl.step_log()\n",
    "    mdl.plot()\n",
    "    dataframes.append(mdl.dataframe)"
   ]
  },
  {
   "cell_type": "code",
   "execution_count": 34,
   "metadata": {},
   "outputs": [],
   "source": [
    "dataframes[0].rename(columns={\"output\": \"output_tau1\"}, inplace=True)\n",
    "dataframes[1].rename(columns={\"output\": \"output_tau2\"}, inplace=True)\n",
    "dataframes[2].rename(columns={\"output\": \"output_tau3\"}, inplace=True)"
   ]
  },
  {
   "cell_type": "code",
   "execution_count": 38,
   "metadata": {},
   "outputs": [],
   "source": [
    "df = dataframes[0].append(dataframes[1]).append(dataframes[2])"
   ]
  },
  {
   "cell_type": "code",
   "execution_count": 39,
   "metadata": {},
   "outputs": [
    {
     "data": {
      "text/plain": [
       "<AxesSubplot:xlabel='time'>"
      ]
     },
     "execution_count": 39,
     "metadata": {},
     "output_type": "execute_result"
    },
    {
     "data": {
      "image/png": "[encoded data removed]",
      "text/plain": [
       "<Figure size 432x288 with 1 Axes>"
      ]
     },
     "metadata": {
      "needs_background": "light"
     },
     "output_type": "display_data"
    }
   ],
   "source": [
    "df.plot(x='time', y=[\"output_tau1\", \"output_tau2\", \"output_tau3\"])"
   ]
  },
  {
   "cell_type": "markdown",
   "metadata": {},
   "source": [
    "# Sine Response\n",
    "\n",
    "*Sample homework problem?*\n",
    "\n",
    "- Input a sine-wave to the system. Estimate the mag/phase and compare to the ```control.bode``` function.\n",
    "- The simulink model is running at 0.001s."
   ]
  },
  {
   "cell_type": "code",
   "execution_count": 154,
   "metadata": {},
   "outputs": [],
   "source": [
    "import random"
   ]
  },
  {
   "cell_type": "code",
   "execution_count": 155,
   "metadata": {},
   "outputs": [],
   "source": [
    "# \"Black box\"\n",
    "K = random.randint(1, 10)\n",
    "tau = random.randint(1, 10)\n",
    "sys = control.TransferFunction([K], [tau, 1])\n",
    "sysd = control.c2d(sys, Ts)\n",
    "mdl.num = sysd.num[0][0]\n",
    "mdl.den = sysd.den[0][0]"
   ]
  },
  {
   "cell_type": "markdown",
   "metadata": {},
   "source": [
    "### Solution"
   ]
  },
  {
   "cell_type": "code",
   "execution_count": 158,
   "metadata": {},
   "outputs": [],
   "source": [
    "def input_fcn(step, freq):\n",
    "    \"\"\"Function to simplify calculate sine response given step and frequency (hz).\"\"\"\n",
    "    return np.sin(2*np.pi*freq*step/1000)"
   ]
  },
  {
   "cell_type": "code",
   "execution_count": 159,
   "metadata": {},
   "outputs": [
    {
     "data": {
      "image/png": "[encoded data removed]",
      "text/plain": [
       "<Figure size 432x288 with 1 Axes>"
      ]
     },
     "metadata": {
      "needs_background": "light"
     },
     "output_type": "display_data"
    }
   ],
   "source": [
    "mdl.init_log()\n",
    "for step in range(int(2/Ts)):\n",
    "    mdl.input_signal = input_fcn(step, 1)\n",
    "    mdl.step_log()\n",
    "mdl.plot()\n",
    "dataframes.append(mdl.dataframe)"
   ]
  },
  {
   "cell_type": "code",
   "execution_count": 164,
   "metadata": {},
   "outputs": [
    {
     "data": {
      "image/png": "[encoded data removed]",
      "text/plain": [
       "<Figure size 432x288 with 1 Axes>"
      ]
     },
     "metadata": {
      "needs_background": "light"
     },
     "output_type": "display_data"
    }
   ],
   "source": [
    "f=0.01\n",
    "mdl.init_log()\n",
    "for step in range(int((10*1/f)/Ts)):\n",
    "    mdl.input_signal = input_fcn(step, f)\n",
    "    mdl.step_log()\n",
    "mdl.plot()"
   ]
  },
  {
   "cell_type": "code",
   "execution_count": 165,
   "metadata": {},
   "outputs": [],
   "source": [
    "df=mdl.dataframe[int(1000000/2):]"
   ]
  },
  {
   "cell_type": "code",
   "execution_count": 166,
   "metadata": {
    "scrolled": true
   },
   "outputs": [
    {
     "data": {
      "text/plain": [
       "1.0"
      ]
     },
     "execution_count": 166,
     "metadata": {},
     "output_type": "execute_result"
    }
   ],
   "source": [
    "df.input.max()"
   ]
  },
  {
   "cell_type": "code",
   "execution_count": 167,
   "metadata": {},
   "outputs": [
    {
     "data": {
      "text/plain": [
       "3.5739054743516614"
      ]
     },
     "execution_count": 167,
     "metadata": {},
     "output_type": "execute_result"
    }
   ],
   "source": [
    "df.output.max()"
   ]
  },
  {
   "cell_type": "code",
   "execution_count": 171,
   "metadata": {},
   "outputs": [],
   "source": [
    "from scipy.optimize import minimize\n",
    "from sklearn.metrics import mean_squared_error "
   ]
  },
  {
   "cell_type": "code",
   "execution_count": 183,
   "metadata": {
    "scrolled": true
   },
   "outputs": [
    {
     "data": {
      "text/plain": [
       "      fun: 3.220962987475189e-16\n",
       " hess_inv: array([[ 9.99996524e-01, -1.25928081e-05],\n",
       "       [-1.25928081e-05,  7.82329159e-02]])\n",
       "      jac: array([1.40818821e-10, 8.29902406e-09])\n",
       "  message: 'Optimization terminated successfully.'\n",
       "     nfev: 30\n",
       "      nit: 8\n",
       "     njev: 10\n",
       "   status: 0\n",
       "  success: True\n",
       "        x: array([ 3.57390547, -0.46580064])"
      ]
     },
     "execution_count": 183,
     "metadata": {},
     "output_type": "execute_result"
    }
   ],
   "source": [
    "def minfunc(*args):\n",
    "    \"\"\"Function to calculate error between estimate and output.\"\"\"\n",
    "    A=args[0][0]\n",
    "    phi=args[0][1]\n",
    "    output_p = A*np.sin(2*np.pi*f*df.time+phi)\n",
    "    return mean_squared_error(output_p, df.output)\n",
    "\n",
    "x0=[8.7, -np.pi/4]\n",
    "results = minimize(minfunc, x0)\n",
    "results"
   ]
  },
  {
   "cell_type": "code",
   "execution_count": 174,
   "metadata": {},
   "outputs": [
    {
     "data": {
      "text/plain": [
       "(array([3.57390548]), array([-0.46580063]), array([0.06283185]))"
      ]
     },
     "execution_count": 174,
     "metadata": {},
     "output_type": "execute_result"
    }
   ],
   "source": [
    "control.bode(sysd, omega=[2*np.pi*f], plot=False)"
   ]
  },
  {
   "cell_type": "code",
   "execution_count": 186,
   "metadata": {},
   "outputs": [],
   "source": [
    "data = list()\n",
    "for f in np.logspace(-2, 3):\n",
    "    mdl.init_log()\n",
    "    for step in range(int((10*1/f)/Ts)):\n",
    "        mdl.input_signal = input_fcn(step, f)\n",
    "        mdl.step_log()\n",
    "        \n",
    "    def minfunc(*args):\n",
    "        \"\"\"Function to calculate error between estimate and output.\"\"\"\n",
    "        A=args[0][0]\n",
    "        phi=args[0][1]\n",
    "        output_p = A*np.sin(2*np.pi*f*df.time+phi)\n",
    "        return mean_squared_error(output_p, df.output)\n",
    "    results = minimize(minfunc, [1, -1])\n",
    "    data.append({\n",
    "        \"f\": f,\n",
    "        \"mag\": results['x'][0],\n",
    "        \"phase\": results['x'][1]\n",
    "    })"
   ]
  },
  {
   "cell_type": "code",
   "execution_count": 189,
   "metadata": {},
   "outputs": [],
   "source": [
    "import pandas as pd"
   ]
  },
  {
   "cell_type": "code",
   "execution_count": 190,
   "metadata": {},
   "outputs": [],
   "source": [
    "df = pd.DataFrame(data)"
   ]
  },
  {
   "cell_type": "code",
   "execution_count": 191,
   "metadata": {},
   "outputs": [
    {
     "data": {
      "text/html": [
       "<div>\n",
       "<style scoped>\n",
       "    .dataframe tbody tr th:only-of-type {\n",
       "        vertical-align: middle;\n",
       "    }\n",
       "\n",
       "    .dataframe tbody tr th {\n",
       "        vertical-align: top;\n",
       "    }\n",
       "\n",
       "    .dataframe thead th {\n",
       "        text-align: right;\n",
       "    }\n",
       "</style>\n",
       "<table border=\"1\" class=\"dataframe\">\n",
       "  <thead>\n",
       "    <tr style=\"text-align: right;\">\n",
       "      <th></th>\n",
       "      <th>f</th>\n",
       "      <th>mag</th>\n",
       "      <th>phase</th>\n",
       "    </tr>\n",
       "  </thead>\n",
       "  <tbody>\n",
       "    <tr>\n",
       "      <th>0</th>\n",
       "      <td>0.010000</td>\n",
       "      <td>3.573906e+00</td>\n",
       "      <td>-0.465801</td>\n",
       "    </tr>\n",
       "    <tr>\n",
       "      <th>1</th>\n",
       "      <td>0.012649</td>\n",
       "      <td>-6.908760e-01</td>\n",
       "      <td>-0.460831</td>\n",
       "    </tr>\n",
       "    <tr>\n",
       "      <th>2</th>\n",
       "      <td>0.015999</td>\n",
       "      <td>-7.025614e-04</td>\n",
       "      <td>-1.000320</td>\n",
       "    </tr>\n",
       "    <tr>\n",
       "      <th>3</th>\n",
       "      <td>0.020236</td>\n",
       "      <td>6.784974e-02</td>\n",
       "      <td>-1.894898</td>\n",
       "    </tr>\n",
       "    <tr>\n",
       "      <th>4</th>\n",
       "      <td>0.025595</td>\n",
       "      <td>7.106145e-02</td>\n",
       "      <td>-2.157014</td>\n",
       "    </tr>\n",
       "    <tr>\n",
       "      <th>5</th>\n",
       "      <td>0.032375</td>\n",
       "      <td>-4.528138e-02</td>\n",
       "      <td>0.364886</td>\n",
       "    </tr>\n",
       "    <tr>\n",
       "      <th>6</th>\n",
       "      <td>0.040949</td>\n",
       "      <td>-5.876854e-02</td>\n",
       "      <td>-2.448231</td>\n",
       "    </tr>\n",
       "    <tr>\n",
       "      <th>7</th>\n",
       "      <td>0.051795</td>\n",
       "      <td>-1.395238e-02</td>\n",
       "      <td>-0.240674</td>\n",
       "    </tr>\n",
       "    <tr>\n",
       "      <th>8</th>\n",
       "      <td>0.065513</td>\n",
       "      <td>2.321648e-02</td>\n",
       "      <td>-2.124116</td>\n",
       "    </tr>\n",
       "    <tr>\n",
       "      <th>9</th>\n",
       "      <td>0.082864</td>\n",
       "      <td>-2.512560e-02</td>\n",
       "      <td>-2.265648</td>\n",
       "    </tr>\n",
       "    <tr>\n",
       "      <th>10</th>\n",
       "      <td>0.104811</td>\n",
       "      <td>-1.912490e-02</td>\n",
       "      <td>-2.063422</td>\n",
       "    </tr>\n",
       "    <tr>\n",
       "      <th>11</th>\n",
       "      <td>0.132571</td>\n",
       "      <td>-1.222122e-02</td>\n",
       "      <td>-0.999792</td>\n",
       "    </tr>\n",
       "    <tr>\n",
       "      <th>12</th>\n",
       "      <td>0.167683</td>\n",
       "      <td>-5.884286e-03</td>\n",
       "      <td>0.042421</td>\n",
       "    </tr>\n",
       "    <tr>\n",
       "      <th>13</th>\n",
       "      <td>0.212095</td>\n",
       "      <td>8.704274e-04</td>\n",
       "      <td>-1.000759</td>\n",
       "    </tr>\n",
       "    <tr>\n",
       "      <th>14</th>\n",
       "      <td>0.268270</td>\n",
       "      <td>-6.001287e-04</td>\n",
       "      <td>-1.003540</td>\n",
       "    </tr>\n",
       "    <tr>\n",
       "      <th>15</th>\n",
       "      <td>0.339322</td>\n",
       "      <td>5.293951e-03</td>\n",
       "      <td>-1.456495</td>\n",
       "    </tr>\n",
       "    <tr>\n",
       "      <th>16</th>\n",
       "      <td>0.429193</td>\n",
       "      <td>4.511482e-03</td>\n",
       "      <td>-0.999303</td>\n",
       "    </tr>\n",
       "    <tr>\n",
       "      <th>17</th>\n",
       "      <td>0.542868</td>\n",
       "      <td>-3.241198e-04</td>\n",
       "      <td>-0.996302</td>\n",
       "    </tr>\n",
       "    <tr>\n",
       "      <th>18</th>\n",
       "      <td>0.686649</td>\n",
       "      <td>-2.275642e-03</td>\n",
       "      <td>-0.998545</td>\n",
       "    </tr>\n",
       "    <tr>\n",
       "      <th>19</th>\n",
       "      <td>0.868511</td>\n",
       "      <td>-1.664103e-03</td>\n",
       "      <td>-1.000432</td>\n",
       "    </tr>\n",
       "    <tr>\n",
       "      <th>20</th>\n",
       "      <td>1.098541</td>\n",
       "      <td>-1.396500e-03</td>\n",
       "      <td>-1.000073</td>\n",
       "    </tr>\n",
       "    <tr>\n",
       "      <th>21</th>\n",
       "      <td>1.389495</td>\n",
       "      <td>2.645435e-04</td>\n",
       "      <td>-1.001120</td>\n",
       "    </tr>\n",
       "    <tr>\n",
       "      <th>22</th>\n",
       "      <td>1.757511</td>\n",
       "      <td>1.464788e-04</td>\n",
       "      <td>-1.000856</td>\n",
       "    </tr>\n",
       "    <tr>\n",
       "      <th>23</th>\n",
       "      <td>2.222996</td>\n",
       "      <td>4.722476e-04</td>\n",
       "      <td>-0.999212</td>\n",
       "    </tr>\n",
       "    <tr>\n",
       "      <th>24</th>\n",
       "      <td>2.811769</td>\n",
       "      <td>-2.222671e-04</td>\n",
       "      <td>-1.000066</td>\n",
       "    </tr>\n",
       "    <tr>\n",
       "      <th>25</th>\n",
       "      <td>3.556480</td>\n",
       "      <td>-3.732494e-04</td>\n",
       "      <td>-1.000179</td>\n",
       "    </tr>\n",
       "    <tr>\n",
       "      <th>26</th>\n",
       "      <td>4.498433</td>\n",
       "      <td>-2.433668e-04</td>\n",
       "      <td>-1.000211</td>\n",
       "    </tr>\n",
       "    <tr>\n",
       "      <th>27</th>\n",
       "      <td>5.689866</td>\n",
       "      <td>-7.498315e-05</td>\n",
       "      <td>-1.000003</td>\n",
       "    </tr>\n",
       "    <tr>\n",
       "      <th>28</th>\n",
       "      <td>7.196857</td>\n",
       "      <td>-3.564392e-05</td>\n",
       "      <td>-0.999721</td>\n",
       "    </tr>\n",
       "    <tr>\n",
       "      <th>29</th>\n",
       "      <td>9.102982</td>\n",
       "      <td>9.971857e-05</td>\n",
       "      <td>-0.999800</td>\n",
       "    </tr>\n",
       "    <tr>\n",
       "      <th>30</th>\n",
       "      <td>11.513954</td>\n",
       "      <td>-9.238720e-06</td>\n",
       "      <td>-0.999999</td>\n",
       "    </tr>\n",
       "    <tr>\n",
       "      <th>31</th>\n",
       "      <td>14.563485</td>\n",
       "      <td>3.296108e-05</td>\n",
       "      <td>-1.000110</td>\n",
       "    </tr>\n",
       "    <tr>\n",
       "      <th>32</th>\n",
       "      <td>18.420700</td>\n",
       "      <td>-8.112192e-05</td>\n",
       "      <td>-0.999925</td>\n",
       "    </tr>\n",
       "    <tr>\n",
       "      <th>33</th>\n",
       "      <td>23.299518</td>\n",
       "      <td>1.233800e-05</td>\n",
       "      <td>-1.000064</td>\n",
       "    </tr>\n",
       "    <tr>\n",
       "      <th>34</th>\n",
       "      <td>29.470517</td>\n",
       "      <td>-5.877018e-05</td>\n",
       "      <td>-1.000016</td>\n",
       "    </tr>\n",
       "    <tr>\n",
       "      <th>35</th>\n",
       "      <td>37.275937</td>\n",
       "      <td>-3.874302e-06</td>\n",
       "      <td>-1.000000</td>\n",
       "    </tr>\n",
       "    <tr>\n",
       "      <th>36</th>\n",
       "      <td>47.148664</td>\n",
       "      <td>-3.856421e-05</td>\n",
       "      <td>-0.999981</td>\n",
       "    </tr>\n",
       "    <tr>\n",
       "      <th>37</th>\n",
       "      <td>59.636233</td>\n",
       "      <td>4.649162e-06</td>\n",
       "      <td>-1.000012</td>\n",
       "    </tr>\n",
       "    <tr>\n",
       "      <th>38</th>\n",
       "      <td>75.431201</td>\n",
       "      <td>2.694130e-05</td>\n",
       "      <td>-0.999991</td>\n",
       "    </tr>\n",
       "    <tr>\n",
       "      <th>39</th>\n",
       "      <td>95.409548</td>\n",
       "      <td>1.192093e-06</td>\n",
       "      <td>-1.000016</td>\n",
       "    </tr>\n",
       "    <tr>\n",
       "      <th>40</th>\n",
       "      <td>120.679264</td>\n",
       "      <td>1.770258e-05</td>\n",
       "      <td>-0.999997</td>\n",
       "    </tr>\n",
       "    <tr>\n",
       "      <th>41</th>\n",
       "      <td>152.641797</td>\n",
       "      <td>-2.980232e-06</td>\n",
       "      <td>-1.000002</td>\n",
       "    </tr>\n",
       "    <tr>\n",
       "      <th>42</th>\n",
       "      <td>193.069773</td>\n",
       "      <td>-2.563000e-06</td>\n",
       "      <td>-1.000002</td>\n",
       "    </tr>\n",
       "    <tr>\n",
       "      <th>43</th>\n",
       "      <td>244.205309</td>\n",
       "      <td>9.119511e-06</td>\n",
       "      <td>-0.999997</td>\n",
       "    </tr>\n",
       "    <tr>\n",
       "      <th>44</th>\n",
       "      <td>308.884360</td>\n",
       "      <td>2.503395e-06</td>\n",
       "      <td>-1.000003</td>\n",
       "    </tr>\n",
       "    <tr>\n",
       "      <th>45</th>\n",
       "      <td>390.693994</td>\n",
       "      <td>5.960464e-08</td>\n",
       "      <td>-1.000000</td>\n",
       "    </tr>\n",
       "    <tr>\n",
       "      <th>46</th>\n",
       "      <td>494.171336</td>\n",
       "      <td>3.099149e-06</td>\n",
       "      <td>-0.999951</td>\n",
       "    </tr>\n",
       "    <tr>\n",
       "      <th>47</th>\n",
       "      <td>625.055193</td>\n",
       "      <td>-2.205372e-06</td>\n",
       "      <td>-0.999993</td>\n",
       "    </tr>\n",
       "    <tr>\n",
       "      <th>48</th>\n",
       "      <td>790.604321</td>\n",
       "      <td>5.900860e-06</td>\n",
       "      <td>-0.999997</td>\n",
       "    </tr>\n",
       "    <tr>\n",
       "      <th>49</th>\n",
       "      <td>1000.000000</td>\n",
       "      <td>-3.785187e-07</td>\n",
       "      <td>-0.445473</td>\n",
       "    </tr>\n",
       "  </tbody>\n",
       "</table>\n",
       "</div>"
      ],
      "text/plain": [
       "              f           mag     phase\n",
       "0      0.010000  3.573906e+00 -0.465801\n",
       "1      0.012649 -6.908760e-01 -0.460831\n",
       "2      0.015999 -7.025614e-04 -1.000320\n",
       "3      0.020236  6.784974e-02 -1.894898\n",
       "4      0.025595  7.106145e-02 -2.157014\n",
       "5      0.032375 -4.528138e-02  0.364886\n",
       "6      0.040949 -5.876854e-02 -2.448231\n",
       "7      0.051795 -1.395238e-02 -0.240674\n",
       "8      0.065513  2.321648e-02 -2.124116\n",
       "9      0.082864 -2.512560e-02 -2.265648\n",
       "10     0.104811 -1.912490e-02 -2.063422\n",
       "11     0.132571 -1.222122e-02 -0.999792\n",
       "12     0.167683 -5.884286e-03  0.042421\n",
       "13     0.212095  8.704274e-04 -1.000759\n",
       "14     0.268270 -6.001287e-04 -1.003540\n",
       "15     0.339322  5.293951e-03 -1.456495\n",
       "16     0.429193  4.511482e-03 -0.999303\n",
       "17     0.542868 -3.241198e-04 -0.996302\n",
       "18     0.686649 -2.275642e-03 -0.998545\n",
       "19     0.868511 -1.664103e-03 -1.000432\n",
       "20     1.098541 -1.396500e-03 -1.000073\n",
       "21     1.389495  2.645435e-04 -1.001120\n",
       "22     1.757511  1.464788e-04 -1.000856\n",
       "23     2.222996  4.722476e-04 -0.999212\n",
       "24     2.811769 -2.222671e-04 -1.000066\n",
       "25     3.556480 -3.732494e-04 -1.000179\n",
       "26     4.498433 -2.433668e-04 -1.000211\n",
       "27     5.689866 -7.498315e-05 -1.000003\n",
       "28     7.196857 -3.564392e-05 -0.999721\n",
       "29     9.102982  9.971857e-05 -0.999800\n",
       "30    11.513954 -9.238720e-06 -0.999999\n",
       "31    14.563485  3.296108e-05 -1.000110\n",
       "32    18.420700 -8.112192e-05 -0.999925\n",
       "33    23.299518  1.233800e-05 -1.000064\n",
       "34    29.470517 -5.877018e-05 -1.000016\n",
       "35    37.275937 -3.874302e-06 -1.000000\n",
       "36    47.148664 -3.856421e-05 -0.999981\n",
       "37    59.636233  4.649162e-06 -1.000012\n",
       "38    75.431201  2.694130e-05 -0.999991\n",
       "39    95.409548  1.192093e-06 -1.000016\n",
       "40   120.679264  1.770258e-05 -0.999997\n",
       "41   152.641797 -2.980232e-06 -1.000002\n",
       "42   193.069773 -2.563000e-06 -1.000002\n",
       "43   244.205309  9.119511e-06 -0.999997\n",
       "44   308.884360  2.503395e-06 -1.000003\n",
       "45   390.693994  5.960464e-08 -1.000000\n",
       "46   494.171336  3.099149e-06 -0.999951\n",
       "47   625.055193 -2.205372e-06 -0.999993\n",
       "48   790.604321  5.900860e-06 -0.999997\n",
       "49  1000.000000 -3.785187e-07 -0.445473"
      ]
     },
     "execution_count": 191,
     "metadata": {},
     "output_type": "execute_result"
    }
   ],
   "source": [
    "df"
   ]
  },
  {
   "cell_type": "code",
   "execution_count": null,
   "metadata": {},
   "outputs": [],
   "source": []
  }
 ],
 "metadata": {
  "kernelspec": {
   "display_name": "Python 3",
   "language": "python",
   "name": "python3"
  },
  "language_info": {
   "codemirror_mode": {
    "name": "ipython",
    "version": 3
   },
   "file_extension": ".py",
   "mimetype": "text/x-python",
   "name": "python",
   "nbconvert_exporter": "python",
   "pygments_lexer": "ipython3",
   "version": "3.9.1"
  }
 },
 "nbformat": 4,
 "nbformat_minor": 4
}
