{
 "cells": [
  {
   "cell_type": "markdown",
   "metadata": {},
   "source": [
    "# discrete_tf - Example2\n",
    "\n",
    "Very simple discrete transfer function. The Python code should be platform agnostic, `ctypes` will load the appropriate shared library. \n",
    "\n",
    "- This example validates the transfer function numerator and denominator againsnt `python-control`\n",
    "- Generates a step response with the default transfen function $\\frac{3}{2s+1}$\n",
    "- Simulate a sine-wave input through the Simulink model & compare it to `python-control` forced response.\n",
    "- Configure the model with the transfer function $\\frac{1}{1s+1}$ and plot a step response. Compare the step response to the `python-control` forced-response with the same input.\n",
    "\n",
    "![](discrete_tf.png)"
   ]
  },
  {
   "cell_type": "markdown",
   "metadata": {},
   "source": [
    "# Python Setup"
   ]
  },
  {
   "cell_type": "code",
   "execution_count": 1,
   "metadata": {},
   "outputs": [],
   "source": [
    "import ctypes\n",
    "import os\n",
    "import platform\n",
    "\n",
    "import matplotlib.pyplot as plt\n",
    "import pandas as pd\n",
    "from rtwtypes import *"
   ]
  },
  {
   "cell_type": "markdown",
   "metadata": {},
   "source": [
    "Platform Specific Code. This is the only section of the code base that needs to be written specifically for the platform. After the  "
   ]
  },
  {
   "cell_type": "code",
   "execution_count": 2,
   "metadata": {},
   "outputs": [],
   "source": [
    "if platform.system() == \"Linux\":\n",
    "    dll_path = os.path.abspath(\"discrete_tf.so\")\n",
    "    dll = ctypes.cdll.LoadLibrary(dll_path)\n",
    "elif platform.system() == \"Windows\":\n",
    "    dll_path = os.path.abspath(f\"discrete_t_win64.dll\")\n",
    "    dll = ctypes.windll.LoadLibrary(dll_path)"
   ]
  },
  {
   "cell_type": "markdown",
   "metadata": {},
   "source": [
    "Platform Agnostic Setup:"
   ]
  },
  {
   "cell_type": "code",
   "execution_count": 3,
   "metadata": {},
   "outputs": [],
   "source": [
    "# Model entry point functions\n",
    "model_initialize = dll.discrete_tf_initialize\n",
    "model_step = dll.discrete_tf_step\n",
    "model_terminate = dll.discrete_tf_terminate\n",
    "\n",
    "# Input Parameters\n",
    "InputSignal = real_T.in_dll(dll, \"InputSignal\")\n",
    "num = (real_T * 2).in_dll(dll, \"num\")\n",
    "den = (real_T * 2).in_dll(dll, \"den\")\n",
    "# Output Signals\n",
    "OutputSignal = real_T.in_dll(dll, \"OutputSignal\")\n",
    "SimTime = real_T.in_dll(dll, \"SimTime\")"
   ]
  },
  {
   "cell_type": "markdown",
   "metadata": {},
   "source": [
    "Validate that the transfer function numerator and denominator generated in Matlab match those generated with Python tools.\n",
    "\n",
    "```\n",
    "matlab tf() -> \n",
    "matlab c2d() -> \n",
    "Simulink Tunable Parameter -> \n",
    "dll -> \n",
    "Python == control.c2d(control.TransferFunction)\n",
    "```"
   ]
  },
  {
   "cell_type": "code",
   "execution_count": 4,
   "metadata": {},
   "outputs": [
    {
     "data": {
      "text/latex": [
       "$$\\frac{0.0015}{z - 0.9995}\\quad dt = 0.001$$"
      ],
      "text/plain": [
       "TransferFunction(array([0.00149963]), array([ 1.        , -0.99950012]), 0.001)"
      ]
     },
     "execution_count": 4,
     "metadata": {},
     "output_type": "execute_result"
    }
   ],
   "source": [
    "import control\n",
    "import numpy as np\n",
    "\n",
    "# How fast the simulink model is running.\n",
    "Ts = 1e-3\n",
    "# Static Gain\n",
    "K = 3\n",
    "# Time Constant.\n",
    "tau = 2\n",
    "sys = control.TransferFunction([K], [tau, 1])\n",
    "sysd = control.c2d(sys, Ts)\n",
    "sysd"
   ]
  },
  {
   "cell_type": "code",
   "execution_count": 5,
   "metadata": {},
   "outputs": [
    {
     "data": {
      "text/plain": [
       "[0.0, 0.0014996250624921886]"
      ]
     },
     "execution_count": 5,
     "metadata": {},
     "output_type": "execute_result"
    }
   ],
   "source": [
    "list(num)"
   ]
  },
  {
   "cell_type": "code",
   "execution_count": 6,
   "metadata": {},
   "outputs": [
    {
     "data": {
      "text/plain": [
       "[1.0, -0.9995001249791693]"
      ]
     },
     "execution_count": 6,
     "metadata": {},
     "output_type": "execute_result"
    }
   ],
   "source": [
    "list(den)"
   ]
  },
  {
   "cell_type": "code",
   "execution_count": 7,
   "metadata": {},
   "outputs": [
    {
     "data": {
      "text/plain": [
       "array([[[ True]]])"
      ]
     },
     "execution_count": 7,
     "metadata": {},
     "output_type": "execute_result"
    }
   ],
   "source": [
    "np.isclose(num[1], sysd.num)"
   ]
  },
  {
   "cell_type": "code",
   "execution_count": 8,
   "metadata": {},
   "outputs": [
    {
     "data": {
      "text/plain": [
       "array([[[ True,  True]]])"
      ]
     },
     "execution_count": 8,
     "metadata": {},
     "output_type": "execute_result"
    }
   ],
   "source": [
    "np.isclose(den[:], sysd.den)"
   ]
  },
  {
   "cell_type": "markdown",
   "metadata": {},
   "source": [
    "# Running The Model.\n",
    "\n",
    "Run the model and store the step, input, output and simulation time to a pandas dataframe."
   ]
  },
  {
   "cell_type": "code",
   "execution_count": 9,
   "metadata": {},
   "outputs": [],
   "source": [
    "model_initialize()\n",
    "rows = list()\n",
    "for step in range(1000):\n",
    "    model_step()\n",
    "    rows.append(\n",
    "        {\n",
    "            \"time\": float(SimTime.value),\n",
    "            \"input\": float(InputSignal.value),\n",
    "            \"output\": float(OutputSignal.value),\n",
    "        }\n",
    "    )"
   ]
  },
  {
   "cell_type": "code",
   "execution_count": 10,
   "metadata": {
    "scrolled": true
   },
   "outputs": [
    {
     "data": {
      "text/html": [
       "<div>\n",
       "<style scoped>\n",
       "    .dataframe tbody tr th:only-of-type {\n",
       "        vertical-align: middle;\n",
       "    }\n",
       "\n",
       "    .dataframe tbody tr th {\n",
       "        vertical-align: top;\n",
       "    }\n",
       "\n",
       "    .dataframe thead th {\n",
       "        text-align: right;\n",
       "    }\n",
       "</style>\n",
       "<table border=\"1\" class=\"dataframe\">\n",
       "  <thead>\n",
       "    <tr style=\"text-align: right;\">\n",
       "      <th></th>\n",
       "      <th>time</th>\n",
       "      <th>input</th>\n",
       "      <th>output</th>\n",
       "    </tr>\n",
       "  </thead>\n",
       "  <tbody>\n",
       "    <tr>\n",
       "      <th>0</th>\n",
       "      <td>0.000</td>\n",
       "      <td>0.0</td>\n",
       "      <td>0.0</td>\n",
       "    </tr>\n",
       "    <tr>\n",
       "      <th>1</th>\n",
       "      <td>0.001</td>\n",
       "      <td>0.0</td>\n",
       "      <td>0.0</td>\n",
       "    </tr>\n",
       "    <tr>\n",
       "      <th>2</th>\n",
       "      <td>0.002</td>\n",
       "      <td>0.0</td>\n",
       "      <td>0.0</td>\n",
       "    </tr>\n",
       "    <tr>\n",
       "      <th>3</th>\n",
       "      <td>0.003</td>\n",
       "      <td>0.0</td>\n",
       "      <td>0.0</td>\n",
       "    </tr>\n",
       "    <tr>\n",
       "      <th>4</th>\n",
       "      <td>0.004</td>\n",
       "      <td>0.0</td>\n",
       "      <td>0.0</td>\n",
       "    </tr>\n",
       "    <tr>\n",
       "      <th>...</th>\n",
       "      <td>...</td>\n",
       "      <td>...</td>\n",
       "      <td>...</td>\n",
       "    </tr>\n",
       "    <tr>\n",
       "      <th>995</th>\n",
       "      <td>0.995</td>\n",
       "      <td>0.0</td>\n",
       "      <td>0.0</td>\n",
       "    </tr>\n",
       "    <tr>\n",
       "      <th>996</th>\n",
       "      <td>0.996</td>\n",
       "      <td>0.0</td>\n",
       "      <td>0.0</td>\n",
       "    </tr>\n",
       "    <tr>\n",
       "      <th>997</th>\n",
       "      <td>0.997</td>\n",
       "      <td>0.0</td>\n",
       "      <td>0.0</td>\n",
       "    </tr>\n",
       "    <tr>\n",
       "      <th>998</th>\n",
       "      <td>0.998</td>\n",
       "      <td>0.0</td>\n",
       "      <td>0.0</td>\n",
       "    </tr>\n",
       "    <tr>\n",
       "      <th>999</th>\n",
       "      <td>0.999</td>\n",
       "      <td>0.0</td>\n",
       "      <td>0.0</td>\n",
       "    </tr>\n",
       "  </tbody>\n",
       "</table>\n",
       "<p>1000 rows × 3 columns</p>\n",
       "</div>"
      ],
      "text/plain": [
       "      time  input  output\n",
       "0    0.000    0.0     0.0\n",
       "1    0.001    0.0     0.0\n",
       "2    0.002    0.0     0.0\n",
       "3    0.003    0.0     0.0\n",
       "4    0.004    0.0     0.0\n",
       "..     ...    ...     ...\n",
       "995  0.995    0.0     0.0\n",
       "996  0.996    0.0     0.0\n",
       "997  0.997    0.0     0.0\n",
       "998  0.998    0.0     0.0\n",
       "999  0.999    0.0     0.0\n",
       "\n",
       "[1000 rows x 3 columns]"
      ]
     },
     "execution_count": 10,
     "metadata": {},
     "output_type": "execute_result"
    }
   ],
   "source": [
    "df = pd.DataFrame(rows)\n",
    "df"
   ]
  },
  {
   "cell_type": "markdown",
   "metadata": {},
   "source": [
    "# Step Response\n",
    "\n",
    "Generate a step response to test the transfer function.\n",
    "\n",
    "Unit step @ 1s."
   ]
  },
  {
   "cell_type": "code",
   "execution_count": 11,
   "metadata": {},
   "outputs": [
    {
     "data": {
      "text/html": [
       "<div>\n",
       "<style scoped>\n",
       "    .dataframe tbody tr th:only-of-type {\n",
       "        vertical-align: middle;\n",
       "    }\n",
       "\n",
       "    .dataframe tbody tr th {\n",
       "        vertical-align: top;\n",
       "    }\n",
       "\n",
       "    .dataframe thead th {\n",
       "        text-align: right;\n",
       "    }\n",
       "</style>\n",
       "<table border=\"1\" class=\"dataframe\">\n",
       "  <thead>\n",
       "    <tr style=\"text-align: right;\">\n",
       "      <th></th>\n",
       "      <th>time</th>\n",
       "      <th>input</th>\n",
       "      <th>output</th>\n",
       "    </tr>\n",
       "  </thead>\n",
       "  <tbody>\n",
       "    <tr>\n",
       "      <th>0</th>\n",
       "      <td>0.000</td>\n",
       "      <td>0.0</td>\n",
       "      <td>0.000000</td>\n",
       "    </tr>\n",
       "    <tr>\n",
       "      <th>1</th>\n",
       "      <td>0.001</td>\n",
       "      <td>0.0</td>\n",
       "      <td>0.000000</td>\n",
       "    </tr>\n",
       "    <tr>\n",
       "      <th>2</th>\n",
       "      <td>0.002</td>\n",
       "      <td>0.0</td>\n",
       "      <td>0.000000</td>\n",
       "    </tr>\n",
       "    <tr>\n",
       "      <th>3</th>\n",
       "      <td>0.003</td>\n",
       "      <td>0.0</td>\n",
       "      <td>0.000000</td>\n",
       "    </tr>\n",
       "    <tr>\n",
       "      <th>4</th>\n",
       "      <td>0.004</td>\n",
       "      <td>0.0</td>\n",
       "      <td>0.000000</td>\n",
       "    </tr>\n",
       "    <tr>\n",
       "      <th>...</th>\n",
       "      <td>...</td>\n",
       "      <td>...</td>\n",
       "      <td>...</td>\n",
       "    </tr>\n",
       "    <tr>\n",
       "      <th>14995</th>\n",
       "      <td>14.995</td>\n",
       "      <td>1.0</td>\n",
       "      <td>2.997258</td>\n",
       "    </tr>\n",
       "    <tr>\n",
       "      <th>14996</th>\n",
       "      <td>14.996</td>\n",
       "      <td>1.0</td>\n",
       "      <td>2.997259</td>\n",
       "    </tr>\n",
       "    <tr>\n",
       "      <th>14997</th>\n",
       "      <td>14.997</td>\n",
       "      <td>1.0</td>\n",
       "      <td>2.997260</td>\n",
       "    </tr>\n",
       "    <tr>\n",
       "      <th>14998</th>\n",
       "      <td>14.998</td>\n",
       "      <td>1.0</td>\n",
       "      <td>2.997262</td>\n",
       "    </tr>\n",
       "    <tr>\n",
       "      <th>14999</th>\n",
       "      <td>14.999</td>\n",
       "      <td>1.0</td>\n",
       "      <td>2.997263</td>\n",
       "    </tr>\n",
       "  </tbody>\n",
       "</table>\n",
       "<p>15000 rows × 3 columns</p>\n",
       "</div>"
      ],
      "text/plain": [
       "         time  input    output\n",
       "0       0.000    0.0  0.000000\n",
       "1       0.001    0.0  0.000000\n",
       "2       0.002    0.0  0.000000\n",
       "3       0.003    0.0  0.000000\n",
       "4       0.004    0.0  0.000000\n",
       "...       ...    ...       ...\n",
       "14995  14.995    1.0  2.997258\n",
       "14996  14.996    1.0  2.997259\n",
       "14997  14.997    1.0  2.997260\n",
       "14998  14.998    1.0  2.997262\n",
       "14999  14.999    1.0  2.997263\n",
       "\n",
       "[15000 rows x 3 columns]"
      ]
     },
     "execution_count": 11,
     "metadata": {},
     "output_type": "execute_result"
    }
   ],
   "source": [
    "model_initialize()\n",
    "InputSignal.value = 0.0\n",
    "data = list()\n",
    "for step in range(int(15 * 1e3)):\n",
    "    # If Time is >=1s, Input signal = 1s.\n",
    "    if step >= 1 * 1e3:\n",
    "        InputSignal.value = 1.0\n",
    "    else:\n",
    "        InputSignal.value = 0.0\n",
    "    model_step()\n",
    "    # Log the response.\n",
    "    data.append(\n",
    "        {\n",
    "            \"time\": float(SimTime.value),\n",
    "            \"input\": float(InputSignal.value),\n",
    "            \"output\": float(OutputSignal.value),\n",
    "        }\n",
    "    )\n",
    "df = pd.DataFrame(data)\n",
    "df"
   ]
  },
  {
   "cell_type": "code",
   "execution_count": 12,
   "metadata": {},
   "outputs": [
    {
     "data": {
      "text/plain": [
       "<AxesSubplot:xlabel='time'>"
      ]
     },
     "execution_count": 12,
     "metadata": {},
     "output_type": "execute_result"
    },
    {
     "data": {
      "image/png": "[encoded data removed]",
      "text/plain": [
       "<Figure size 432x288 with 1 Axes>"
      ]
     },
     "metadata": {
      "needs_background": "light"
     },
     "output_type": "display_data"
    }
   ],
   "source": [
    "df.plot(x=\"time\", y=[\"input\", \"output\"])"
   ]
  },
  {
   "cell_type": "markdown",
   "metadata": {},
   "source": [
    "Plot the ```control.forced_response``` for the same given input."
   ]
  },
  {
   "cell_type": "code",
   "execution_count": 13,
   "metadata": {},
   "outputs": [
    {
     "data": {
      "image/png": "[encoded data removed]",
      "text/plain": [
       "<Figure size 432x288 with 1 Axes>"
      ]
     },
     "metadata": {
      "needs_background": "light"
     },
     "output_type": "display_data"
    }
   ],
   "source": [
    "T, yout = control.forced_response(sysd, df.time, df.input)\n",
    "\n",
    "plt.plot(T, yout, T, df.input)\n",
    "plt.legend([\"Response\", \"Input Step\"])\n",
    "plt.xlabel(\"Time (s)\")\n",
    "plt.ylabel(\"Response\")\n",
    "plt.title(\"Step response modeled in Python\");"
   ]
  },
  {
   "cell_type": "markdown",
   "metadata": {},
   "source": [
    "Find the max error between the Simulink step transfer function step response and the `control.forced_response` for the same input signal."
   ]
  },
  {
   "cell_type": "code",
   "execution_count": 14,
   "metadata": {},
   "outputs": [
    {
     "data": {
      "text/plain": [
       "7.620570841027074e-13"
      ]
     },
     "execution_count": 14,
     "metadata": {},
     "output_type": "execute_result"
    }
   ],
   "source": [
    "# Max error\n",
    "np.max(yout - df.output)"
   ]
  },
  {
   "cell_type": "markdown",
   "metadata": {},
   "source": [
    "Sending the Simulink shared library has the same response to the same signal tested with the `python-control` library."
   ]
  },
  {
   "cell_type": "markdown",
   "metadata": {},
   "source": [
    "# Sinewave Input\n",
    "\n",
    "Generate a sinewave with ``numpy``. Plot the input and output of the transfer function with ``pandas``."
   ]
  },
  {
   "cell_type": "code",
   "execution_count": 15,
   "metadata": {},
   "outputs": [
    {
     "data": {
      "text/plain": [
       "<AxesSubplot:xlabel='time'>"
      ]
     },
     "execution_count": 15,
     "metadata": {},
     "output_type": "execute_result"
    },
    {
     "data": {
      "image/png": "[encoded data removed]",
      "text/plain": [
       "<Figure size 432x288 with 1 Axes>"
      ]
     },
     "metadata": {
      "needs_background": "light"
     },
     "output_type": "display_data"
    }
   ],
   "source": [
    "model_initialize()\n",
    "rows = list()\n",
    "f = 0.5  # Hz\n",
    "Ts = 1e-3\n",
    "for step in range(int(10 * 1e3)):\n",
    "    InputSignal.value = np.sin(2 * np.pi * step * f * Ts)\n",
    "    row_tmp = {\n",
    "        \"step\": model_step(),\n",
    "        \"time\": float(SimTime.value),\n",
    "        \"input\": float(InputSignal.value),\n",
    "        \"output\": float(OutputSignal.value),\n",
    "    }\n",
    "    rows.append(row_tmp)\n",
    "df = pd.DataFrame(rows)\n",
    "df.plot(x=\"time\", y=[\"input\", \"output\"])"
   ]
  },
  {
   "cell_type": "markdown",
   "metadata": {},
   "source": [
    "Generate a forced response with `python-control` and compare it to the Simulink model's response."
   ]
  },
  {
   "cell_type": "code",
   "execution_count": 16,
   "metadata": {},
   "outputs": [
    {
     "data": {
      "image/png": "[encoded data removed]",
      "text/plain": [
       "<Figure size 432x288 with 1 Axes>"
      ]
     },
     "metadata": {
      "needs_background": "light"
     },
     "output_type": "display_data"
    },
    {
     "data": {
      "image/png": "[encoded data removed]",
      "text/plain": [
       "<Figure size 432x288 with 1 Axes>"
      ]
     },
     "metadata": {
      "needs_background": "light"
     },
     "output_type": "display_data"
    }
   ],
   "source": [
    "T, yout = control.forced_response(sysd, df.time, df.input)\n",
    "plt.figure()\n",
    "plt.plot(T, yout, df.time, df.output)\n",
    "plt.xlabel(\"Time (s)\")\n",
    "plt.ylabel(\"Response\")\n",
    "plt.legend([\"control.forced_response\", \"simulink shared library response\"])\n",
    "plt.figure()\n",
    "plt.plot(T, (yout - df.output))\n",
    "plt.xlabel(\"Time (s)\")\n",
    "plt.title(\"Response Difference\");"
   ]
  },
  {
   "cell_type": "markdown",
   "metadata": {},
   "source": [
    "# Changing the TransferFunction\n",
    "\n",
    "Change the transfer function to have a static gain of 1 and a timeconstant of 1s.\n",
    "\n",
    "Mark $1\\tau$ and $2\\tau$ on the graph."
   ]
  },
  {
   "cell_type": "code",
   "execution_count": 17,
   "metadata": {},
   "outputs": [
    {
     "data": {
      "text/latex": [
       "$$\\frac{0.0009995}{z - 0.999}\\quad dt = 0.001$$"
      ],
      "text/plain": [
       "TransferFunction(array([0.0009995]), array([ 1.       , -0.9990005]), 0.001)"
      ]
     },
     "execution_count": 17,
     "metadata": {},
     "output_type": "execute_result"
    }
   ],
   "source": [
    "# How fast the simulink model is running.\n",
    "Ts = 1e-3\n",
    "# Static Gain\n",
    "K = 1\n",
    "# Time Constant.\n",
    "tau = 1\n",
    "sys = control.TransferFunction([K], [tau, 1])\n",
    "sysd = control.c2d(sys, Ts)\n",
    "sysd"
   ]
  },
  {
   "cell_type": "code",
   "execution_count": 18,
   "metadata": {},
   "outputs": [
    {
     "data": {
      "text/plain": [
       "<matplotlib.collections.LineCollection at 0x7f7cce6f8700>"
      ]
     },
     "execution_count": 18,
     "metadata": {},
     "output_type": "execute_result"
    },
    {
     "data": {
      "image/png": "[encoded data removed]",
      "text/plain": [
       "<Figure size 432x288 with 1 Axes>"
      ]
     },
     "metadata": {
      "needs_background": "light"
     },
     "output_type": "display_data"
    }
   ],
   "source": [
    "num[1] = sysd.num[0][0][0]\n",
    "den[0] = sysd.den[0][0][0]\n",
    "den[1] = sysd.den[0][0][1]\n",
    "\n",
    "model_initialize()\n",
    "InputSignal.value = 0.0\n",
    "rows = list()\n",
    "for step in range(int(15 * 1e3)):\n",
    "    if step >= 1 * 1e3:\n",
    "        InputSignal.value = 1.0\n",
    "    else:\n",
    "        InputSignal.value = 0.0\n",
    "    row_tmp = {\n",
    "        \"step\": model_step(),\n",
    "        \"time\": float(SimTime.value),\n",
    "        \"input\": float(InputSignal.value),\n",
    "        \"output\": float(OutputSignal.value),\n",
    "    }\n",
    "    rows.append(row_tmp)\n",
    "df = pd.DataFrame(rows)\n",
    "df.plot(x=\"time\", y=[\"input\", \"output\"])\n",
    "plt.ylabel(\"Response (s)\")\n",
    "plt.hlines([1 - np.exp(-tau), 1 - np.exp(-2 * tau)], xmin=0, xmax=14, colors=\"r\")\n",
    "plt.vlines([2, 3], ymin=0, ymax=1, colors=\"g\")"
   ]
  },
  {
   "cell_type": "markdown",
   "metadata": {},
   "source": [
    "## Validate Step Response\n",
    "\n",
    "Using the characteristics of a first order transfer function test that the transfer function matches."
   ]
  },
  {
   "cell_type": "code",
   "execution_count": 19,
   "metadata": {},
   "outputs": [
    {
     "data": {
      "text/plain": [
       "1000"
      ]
     },
     "execution_count": 19,
     "metadata": {},
     "output_type": "execute_result"
    }
   ],
   "source": [
    "step_idx = np.where(df.input > 0)[0][0]\n",
    "step_idx"
   ]
  },
  {
   "cell_type": "code",
   "execution_count": 20,
   "metadata": {},
   "outputs": [],
   "source": [
    "tau1_idx = np.where(df.output < (1 - np.exp(-1 * tau)))[0][-1]\n",
    "tau2_idx = np.where(df.output < (1 - np.exp(-2 * tau)))[0][-1]"
   ]
  },
  {
   "cell_type": "code",
   "execution_count": 21,
   "metadata": {},
   "outputs": [],
   "source": [
    "assert np.equal(df.time[tau1_idx] - df.time[step_idx], tau)\n",
    "assert np.equal(df.time[tau2_idx] - df.time[step_idx], 2 * tau)"
   ]
  }
 ],
 "metadata": {
  "kernelspec": {
   "display_name": "Python 3",
   "language": "python",
   "name": "python3"
  },
  "language_info": {
   "codemirror_mode": {
    "name": "ipython",
    "version": 3
   },
   "file_extension": ".py",
   "mimetype": "text/x-python",
   "name": "python",
   "nbconvert_exporter": "python",
   "pygments_lexer": "ipython3",
   "version": "3.8.5"
  }
 },
 "nbformat": 4,
 "nbformat_minor": 4
}
