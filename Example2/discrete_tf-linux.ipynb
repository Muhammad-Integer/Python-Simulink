{
 "cells": [
  {
   "cell_type": "markdown",
   "metadata": {},
   "source": [
    "# discrete_tf - Example2 - Linux\n",
    "\n",
    "Very simple discrete transfer function\n",
    "\n",
    "![](discrete_tf.png)"
   ]
  },
  {
   "cell_type": "markdown",
   "metadata": {},
   "source": [
    "# Python Setup"
   ]
  },
  {
   "cell_type": "code",
   "execution_count": 1,
   "metadata": {},
   "outputs": [],
   "source": [
    "import ctypes\n",
    "from rtwtypes import *"
   ]
  },
  {
   "cell_type": "code",
   "execution_count": 2,
   "metadata": {},
   "outputs": [],
   "source": [
    "import os\n",
    "dll_path = os.path.abspath('discrete_tf.so')\n",
    "dll = ctypes.cdll.LoadLibrary(dll_path)\n",
    "# Model entry point functions\n",
    "model_initialize = dll.discrete_tf_initialize\n",
    "model_step = dll.discrete_tf_step\n",
    "model_terminate = dll.discrete_tf_terminate"
   ]
  },
  {
   "cell_type": "code",
   "execution_count": 4,
   "metadata": {},
   "outputs": [],
   "source": [
    "InputSignal = real_T.in_dll(dll, 'InputSignal')\n",
    "num = (real_T*2).in_dll(dll,  \"num\")\n",
    "den = (real_T*2).in_dll(dll,  \"den\")"
   ]
  },
  {
   "cell_type": "code",
   "execution_count": 5,
   "metadata": {},
   "outputs": [],
   "source": [
    "OutputSignal = real_T.in_dll(dll, 'OutputSignal')\n",
    "SimTime = real_T.in_dll(dll, 'SimTime')"
   ]
  },
  {
   "cell_type": "markdown",
   "metadata": {},
   "source": [
    "Validate Matlab `c2d` match Python's `control` library's implementation"
   ]
  },
  {
   "cell_type": "code",
   "execution_count": 8,
   "metadata": {},
   "outputs": [
    {
     "data": {
      "text/latex": [
       "$$\\frac{0.0015}{z - 0.9995}\\quad dt = 0.001$$"
      ],
      "text/plain": [
       "TransferFunction(array([0.00149963]), array([ 1.        , -0.99950012]), 0.001)"
      ]
     },
     "execution_count": 8,
     "metadata": {},
     "output_type": "execute_result"
    }
   ],
   "source": [
    "import control\n",
    "import numpy as np\n",
    "Ts=1e-3\n",
    "sys = control.TransferFunction([3], [2, 1])\n",
    "sysd = control.c2d(sys, Ts)\n",
    "sysd"
   ]
  },
  {
   "cell_type": "code",
   "execution_count": 9,
   "metadata": {},
   "outputs": [
    {
     "data": {
      "text/plain": [
       "0.0014996250624921886"
      ]
     },
     "execution_count": 9,
     "metadata": {},
     "output_type": "execute_result"
    }
   ],
   "source": [
    "num[1]"
   ]
  },
  {
   "cell_type": "code",
   "execution_count": 10,
   "metadata": {},
   "outputs": [
    {
     "data": {
      "text/plain": [
       "array([[[ True]]])"
      ]
     },
     "execution_count": 10,
     "metadata": {},
     "output_type": "execute_result"
    }
   ],
   "source": [
    "np.isclose(num[1], sysd.num)"
   ]
  },
  {
   "cell_type": "code",
   "execution_count": 11,
   "metadata": {},
   "outputs": [
    {
     "data": {
      "text/plain": [
       "1.0"
      ]
     },
     "execution_count": 11,
     "metadata": {},
     "output_type": "execute_result"
    }
   ],
   "source": [
    "den[0]"
   ]
  },
  {
   "cell_type": "code",
   "execution_count": 12,
   "metadata": {},
   "outputs": [
    {
     "data": {
      "text/plain": [
       "array([[[ True,  True]]])"
      ]
     },
     "execution_count": 12,
     "metadata": {},
     "output_type": "execute_result"
    }
   ],
   "source": [
    "np.isclose(den[:], sysd.den)"
   ]
  },
  {
   "cell_type": "markdown",
   "metadata": {},
   "source": [
    "# Running The Model.\n",
    "\n",
    "Run the model and store the step, input, output and simulation time to a pandas dataframe."
   ]
  },
  {
   "cell_type": "code",
   "execution_count": 13,
   "metadata": {},
   "outputs": [],
   "source": [
    "model_initialize();\n",
    "rows = list()\n",
    "for step in range(1000):\n",
    "    row_tmp = {\n",
    "    'step': model_step(),\n",
    "    'time': float(SimTime.value),\n",
    "    'input': float(InputSignal.value),\n",
    "    'output': float(OutputSignal.value),\n",
    "    }\n",
    "    rows.append(row_tmp)"
   ]
  },
  {
   "cell_type": "markdown",
   "metadata": {},
   "source": [
    "# Running The Model Varying Inputs\n",
    "\n",
    "Generate a step response to test the transfer function."
   ]
  },
  {
   "cell_type": "code",
   "execution_count": null,
   "metadata": {},
   "outputs": [],
   "source": [
    "model_initialize();\n",
    "InputSignal.value=0.0;\n",
    "rows = list()\n",
    "for step in range(10000):\n",
    "    if step>=1000:\n",
    "        InputSignal.value=1.0\n",
    "    else:\n",
    "        InputSignal.value=0.0\n",
    "    row_tmp = {\n",
    "    'step': model_step(),\n",
    "    'time': float(SimTime.value),\n",
    "    'input': float(InputSignal.value),\n",
    "    'output': float(OutputSignal.value),\n",
    "    }\n",
    "    rows.append(row_tmp)\n",
    "df = pd.DataFrame(rows)\n",
    "df"
   ]
  },
  {
   "cell_type": "code",
   "execution_count": null,
   "metadata": {},
   "outputs": [],
   "source": [
    "df.plot(x='time', y=\"output\")"
   ]
  },
  {
   "cell_type": "code",
   "execution_count": null,
   "metadata": {},
   "outputs": [],
   "source": [
    "import matplotlib.pyplot as plt\n",
    "import numpy as np"
   ]
  },
  {
   "cell_type": "code",
   "execution_count": null,
   "metadata": {},
   "outputs": [],
   "source": [
    "control.bode(sysd);"
   ]
  },
  {
   "cell_type": "markdown",
   "metadata": {},
   "source": [
    "# Sinewave Input\n",
    "\n",
    "Generate a sinewave with ``numpy``. Plot the input and output of the transfer function with ``pandas``."
   ]
  },
  {
   "cell_type": "code",
   "execution_count": null,
   "metadata": {},
   "outputs": [],
   "source": [
    "model_initialize();\n",
    "rows = list()\n",
    "for step in range(int(10*1e3)):\n",
    "    InputSignal.value=np.sin(2*np.pi*step/1e3)\n",
    "    row_tmp = {\n",
    "    'step': model_step(),\n",
    "    'time': float(SimTime.value),\n",
    "    'input': float(InputSignal.value),\n",
    "    'output': float(OutputSignal.value),\n",
    "    }\n",
    "    rows.append(row_tmp)\n",
    "df = pd.DataFrame(rows)\n",
    "df.plot(x='time', y=[\"input\", \"output\"])"
   ]
  },
  {
   "cell_type": "code",
   "execution_count": null,
   "metadata": {},
   "outputs": [],
   "source": []
  }
 ],
 "metadata": {
  "kernelspec": {
   "display_name": "Python 3",
   "language": "python",
   "name": "python3"
  },
  "language_info": {
   "codemirror_mode": {
    "name": "ipython",
    "version": 3
   },
   "file_extension": ".py",
   "mimetype": "text/x-python",
   "name": "python",
   "nbconvert_exporter": "python",
   "pygments_lexer": "ipython3",
   "version": "3.8.5"
  }
 },
 "nbformat": 4,
 "nbformat_minor": 4
}
